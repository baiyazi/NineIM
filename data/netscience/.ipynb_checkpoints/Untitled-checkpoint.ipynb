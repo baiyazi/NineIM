{
 "cells": [
  {
   "cell_type": "code",
   "execution_count": 2,
   "metadata": {},
   "outputs": [],
   "source": [
    "import networkx as nx\n",
    "import numpy as np\n",
    "import community as community_louvain\n",
    "import pandas as pd\n",
    "import argparse\n",
    "from sklearn.utils import shuffle"
   ]
  },
  {
   "cell_type": "code",
   "execution_count": 3,
   "metadata": {},
   "outputs": [],
   "source": [
    "def save_labels(partition):\n",
    "    labels = []\n",
    "    for key in partition.keys():\n",
    "        labels.append([key, partition[key]])\n",
    "    labels = np.array(labels)\n",
    "    df = pd.DataFrame({\"node1\": labels[:, 0], \"node2\": labels[:, 1]})\n",
    "    df = shuffle(df)\n",
    "    df.to_csv(\"netscience_labels.txt\", sep=\" \", header=None, index=False)"
   ]
  },
  {
   "cell_type": "code",
   "execution_count": 4,
   "metadata": {},
   "outputs": [],
   "source": [
    "def read_graph(edgelist_file, directed):\n",
    "    \"\"\"\n",
    "    读取csv文件到networkx的图G中\n",
    "    调用案例：\n",
    "        g = read_graph(\"../data/edgelist.csv\", False)  # 无向图\n",
    "    csv格式：\n",
    "\n",
    "    :param edgelist_file:\n",
    "    :param directed:\n",
    "    :return:\n",
    "    \"\"\"\n",
    "    # 定义一个Graph来存储节点边等信息，默认初始权重为1\n",
    "    G = nx.DiGraph()\n",
    "\n",
    "    with open(edgelist_file, mode=\"r\", encoding=\"utf-8\") as f:\n",
    "        # 第一行存储的是顶点的数目和边的数目\n",
    "        n, m = f.readline().split(\",\")\n",
    "        for line in f:\n",
    "            u, v = map(int, line.split(\",\"))\n",
    "            try:\n",
    "                G[u][v]['weight'] += 1\n",
    "            except:\n",
    "                G.add_edge(u, v, weight=1)\n",
    "    if not directed:\n",
    "        G = G.to_undirected()\n",
    "    return G"
   ]
  },
  {
   "cell_type": "code",
   "execution_count": 5,
   "metadata": {},
   "outputs": [],
   "source": [
    "G = nx.read_gml(\"netscience.gml\")\n",
    "G = nx.to_undirected(G)"
   ]
  },
  {
   "cell_type": "code",
   "execution_count": 15,
   "metadata": {},
   "outputs": [
    {
     "name": "stdout",
     "output_type": "stream",
     "text": [
      "Storage graph data successful!\n"
     ]
    }
   ],
   "source": [
    "# 2. 重新编号\n",
    "node_map = {}\n",
    "for _, node in enumerate(G):\n",
    "    node_map[node] = _\n",
    "\n",
    "# 找到最大的联通子图，然后和孤立节点添加连接边\n",
    "largest_cc = list(max(nx.connected_components(G), key=len))\n",
    "components = list(nx.connected_components(G))\n",
    "\n",
    "\n",
    "relationship = []\n",
    "for node in G.nodes:\n",
    "    for n in G.neighbors(node):\n",
    "        relationship.append([node_map[node], node_map[n]])\n",
    "        \n",
    "        \n",
    "for component in components:\n",
    "    component = list(component)\n",
    "    flag = False\n",
    "    for node in component:\n",
    "        if node in largest_cc:\n",
    "            flag = True\n",
    "    if not flag:\n",
    "        relationship.append([node_map[random.choice(component)], node_map[random.choice(largest_cc)]])\n",
    "\n",
    "\n",
    "relationship = np.array(relationship)\n",
    "\n",
    "# 4. 存储\n",
    "filename = \"netscience_graphs.csv\"\n",
    "df = pd.DataFrame({\"node1\":relationship[:, 0], \"node2\": relationship[:, 1]})\n",
    "df.to_csv(filename, sep=\",\", header=None, index=False)\n",
    "print(\"Storage graph data successful!\")"
   ]
  },
  {
   "cell_type": "code",
   "execution_count": null,
   "metadata": {},
   "outputs": [],
   "source": []
  }
 ],
 "metadata": {
  "kernelspec": {
   "display_name": "Python 3",
   "language": "python",
   "name": "python3"
  },
  "language_info": {
   "codemirror_mode": {
    "name": "ipython",
    "version": 3
   },
   "file_extension": ".py",
   "mimetype": "text/x-python",
   "name": "python",
   "nbconvert_exporter": "python",
   "pygments_lexer": "ipython3",
   "version": "3.7.0"
  }
 },
 "nbformat": 4,
 "nbformat_minor": 4
}
